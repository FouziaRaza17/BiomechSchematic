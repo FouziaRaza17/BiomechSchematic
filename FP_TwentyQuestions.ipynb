{
  "nbformat": 4,
  "nbformat_minor": 0,
  "metadata": {
    "colab": {
      "name": "FP_TwentyQuestions.ipynb",
      "provenance": [],
      "authorship_tag": "ABX9TyMPd5A9tJK191cNzmewK9ZB",
      "include_colab_link": true
    },
    "kernelspec": {
      "name": "python3",
      "display_name": "Python 3"
    },
    "language_info": {
      "name": "python"
    }
  },
  "cells": [
    {
      "cell_type": "markdown",
      "metadata": {
        "id": "view-in-github",
        "colab_type": "text"
      },
      "source": [
        "<a href=\"https://colab.research.google.com/github/FouziaRaza17/BiomechSchematic/blob/main/FP_TwentyQuestions.ipynb\" target=\"_parent\"><img src=\"https://colab.research.google.com/assets/colab-badge.svg\" alt=\"Open In Colab\"/></a>"
      ]
    },
    {
      "cell_type": "markdown",
      "source": [
        "# The KittyBot \n",
        "\n",
        "The KittyBot is a social robot for older folks who coule appreciate some company from anyone (or anything) willing to engage in sharing random knoweldege, playing games, or just letting you know the weather for the day. "
      ],
      "metadata": {
        "id": "wvCBpIShYCw_"
      }
    },
    {
      "cell_type": "markdown",
      "source": [
        "This script was developed to interface with an Arduino Uno controlling a stationary robot to provide my 98-year-old friend a way to pass her time. Although this script contains only a part of what I imagined it could do (such as have an entire conversation that would probably require some natural language processing). "
      ],
      "metadata": {
        "id": "gduMJZWhYeqm"
      }
    },
    {
      "cell_type": "markdown",
      "source": [
        "The following script can do the following 3 things: \n",
        "1. Return random facts when prompted \n",
        "2. Inform you of the weather after you input the name of the city you are in\n",
        "3. Play a mini version of 20 Questions using the countries of the Western Hemisphere"
      ],
      "metadata": {
        "id": "0aFRQfPhbGsp"
      }
    },
    {
      "cell_type": "markdown",
      "source": [
        "### 1. Random Facts"
      ],
      "metadata": {
        "id": "D_APsSb8bwgy"
      }
    },
    {
      "cell_type": "code",
      "source": [
        "pip install randfacts"
      ],
      "metadata": {
        "colab": {
          "base_uri": "https://localhost:8080/"
        },
        "id": "QgtYpU5fbCG9",
        "outputId": "c97e8940-c6a0-4224-ed64-b5629b16aa16"
      },
      "execution_count": 7,
      "outputs": [
        {
          "output_type": "stream",
          "name": "stdout",
          "text": [
            "Collecting randfacts\n",
            "  Downloading randfacts-0.15.0-py3-none-any.whl (257 kB)\n",
            "\u001b[?25l\r\u001b[K     |█▎                              | 10 kB 24.3 MB/s eta 0:00:01\r\u001b[K     |██▌                             | 20 kB 16.4 MB/s eta 0:00:01\r\u001b[K     |███▉                            | 30 kB 11.1 MB/s eta 0:00:01\r\u001b[K     |█████                           | 40 kB 9.7 MB/s eta 0:00:01\r\u001b[K     |██████▍                         | 51 kB 4.5 MB/s eta 0:00:01\r\u001b[K     |███████▋                        | 61 kB 5.3 MB/s eta 0:00:01\r\u001b[K     |█████████                       | 71 kB 5.8 MB/s eta 0:00:01\r\u001b[K     |██████████▏                     | 81 kB 6.0 MB/s eta 0:00:01\r\u001b[K     |███████████▌                    | 92 kB 6.7 MB/s eta 0:00:01\r\u001b[K     |████████████▊                   | 102 kB 5.3 MB/s eta 0:00:01\r\u001b[K     |██████████████                  | 112 kB 5.3 MB/s eta 0:00:01\r\u001b[K     |███████████████▎                | 122 kB 5.3 MB/s eta 0:00:01\r\u001b[K     |████████████████▋               | 133 kB 5.3 MB/s eta 0:00:01\r\u001b[K     |█████████████████▉              | 143 kB 5.3 MB/s eta 0:00:01\r\u001b[K     |███████████████████▏            | 153 kB 5.3 MB/s eta 0:00:01\r\u001b[K     |████████████████████▍           | 163 kB 5.3 MB/s eta 0:00:01\r\u001b[K     |█████████████████████▋          | 174 kB 5.3 MB/s eta 0:00:01\r\u001b[K     |███████████████████████         | 184 kB 5.3 MB/s eta 0:00:01\r\u001b[K     |████████████████████████▏       | 194 kB 5.3 MB/s eta 0:00:01\r\u001b[K     |█████████████████████████▌      | 204 kB 5.3 MB/s eta 0:00:01\r\u001b[K     |██████████████████████████▊     | 215 kB 5.3 MB/s eta 0:00:01\r\u001b[K     |████████████████████████████    | 225 kB 5.3 MB/s eta 0:00:01\r\u001b[K     |█████████████████████████████▎  | 235 kB 5.3 MB/s eta 0:00:01\r\u001b[K     |██████████████████████████████▋ | 245 kB 5.3 MB/s eta 0:00:01\r\u001b[K     |███████████████████████████████▉| 256 kB 5.3 MB/s eta 0:00:01\r\u001b[K     |████████████████████████████████| 257 kB 5.3 MB/s \n",
            "\u001b[?25hInstalling collected packages: randfacts\n",
            "Successfully installed randfacts-0.15.0\n"
          ]
        }
      ]
    },
    {
      "cell_type": "code",
      "source": [
        "import randfacts                                                                  #Imports the random facts library"
      ],
      "metadata": {
        "id": "jrJKhIkoa9iK"
      },
      "execution_count": 9,
      "outputs": []
    },
    {
      "cell_type": "code",
      "source": [
        "def rand_facts():                                                                 #Creates a function that can be called by a main script\n",
        "  factofday = randfacts.get_fact()                                                #Gets a random fact from the random facts library\n",
        "  print(factofday)                                                             #Prints the random fact for the user"
      ],
      "metadata": {
        "id": "WPsaJfv64BqP"
      },
      "execution_count": 42,
      "outputs": []
    },
    {
      "cell_type": "markdown",
      "source": [
        "### 2. Weather of the day"
      ],
      "metadata": {
        "id": "l8VCwECAd1hj"
      }
    },
    {
      "cell_type": "code",
      "source": [
        "import requests"
      ],
      "metadata": {
        "id": "Z4xmDZOafNOU"
      },
      "execution_count": 14,
      "outputs": []
    },
    {
      "cell_type": "code",
      "source": [
        "def weather():\n",
        "\n",
        "  api_key = \"27a570a7f7b9dbedd41a8b03c76f8521\"                                      #Used a generated API key from weather app\n",
        "  url= \"http://api.openweathermap.org/data/2.5/weather?\"                            #URL that the code uses to obtain weather information\n",
        "\n",
        "  city_name = input(\"Enter city name using all lowercase : \")                       #Prompts the user to input the name of the city they will be obtaining weather information for\n",
        "  full_url = url + \"q=\" + city_name + \"&appid=\" + api_key                           #Updates the URL based on the city inputted by the user\n",
        "  req = requests.get(full_url)                                                      #Uses the requests library to gain access to the URL above \n",
        "  info = req.json()                                                                 #Take the JSON information (formatted using attributes-values pairs) from the URL using json library  \n",
        "\n",
        "  if info[\"cod\"] != \"404\":                                                          #If there is no error in obtaining the information  \n",
        "      data = info[\"main\"]                                                           #Sets the data variable to contain information from  \n",
        "      current_temperature = data[\"temp\"]                                            #Takes the current temperature from the data structure\n",
        "      tnc = round(float(current_temperature - 273.15),2)                            #Converts the temperature to Celcius\n",
        "      current_pressure = data[\"pressure\"]                                           #Stores the pressure data\n",
        "      current_humidiy = data[\"humidity\"]                                            #Stores the humidity data\n",
        "      z = info[\"weather\"]                                                           #Gets the weather  for the day\n",
        "      weather_description = z[0][\"description\"]                                     #Stores the weather description  \n",
        "      s = info[\"wind\"]                                                              #Stores the wind info \n",
        "      speed = s[\"speed\"]                                                            #Stores the speed of the wind \n",
        "      print()                                                                       #Prints the info:\n",
        "      print(\"Temperature (in celsius unit): \",                                      #Prints temperature info in Celcius    \n",
        "                    round(float(current_temperature - 273.15),2) , \"°C\",\n",
        "              \"\\nAtmospheric pressure : \" +                                         #Prints the atmosphereic pressure\n",
        "                    str(current_pressure) + \"hpa\"                                 \n",
        "              \"\\nHumidity : \" +                                                     #Prints humidity data     \n",
        "                    str(current_humidiy) + \"%\"\n",
        "              \"\\nDescription: \" +                                                   #Prints the description\n",
        "                    str(weather_description).capitalize()+\n",
        "                  \"\\nWind Speed :\" + str(speed) + \"m/s\")                            #Prints the wind speed                \n",
        "  else: \n",
        "    print(\" City Not Found \")                                                       #If city is not found in the database\n",
        "\n",
        "  ## References: https://www.geeksforgeeks.org/python-find-current-weather-of-any-city-using-openweathermap-api/"
      ],
      "metadata": {
        "id": "M3RwHZFEfJ4A"
      },
      "execution_count": 27,
      "outputs": []
    },
    {
      "cell_type": "markdown",
      "source": [
        "### 3. 20 Questions - Country Version"
      ],
      "metadata": {
        "id": "3nhtaHvkqr7T"
      }
    },
    {
      "cell_type": "code",
      "source": [
        "import csv"
      ],
      "metadata": {
        "id": "fSN4WqXfq_hC"
      },
      "execution_count": 18,
      "outputs": []
    },
    {
      "cell_type": "code",
      "source": [
        "def twentyquestions():\n",
        "  def nextQ(ans_path, tree_dict):                                                   #Creates a function that takes in the list of all answers inputted by the user and the decision tree\n",
        "    str_check = ''.join(user_answer_list)                                           #Converts the list of user input into a string \n",
        "    if str_check in tree_dict:                                                      #Checks whether the train of user inputs can be found in the decision tree \n",
        "      nextQues = tree_dict[str_check]                                               #If the chain of inputs is found, find the question that leads to that chain\n",
        "    else:                                                                           #If the chain of inputs doesn't exist in the decision tree\n",
        "      nextQues = \"You need to check your geography again dude! Start over.\"         #Make the user recheck their geography and tell them to restart the game \n",
        "    print(nextQues)                                                                 #Print the next question for the user \n",
        "    return nextQues                                                                 #Output the next question\n",
        "\n",
        "  def questions_dict(filename):                                                     #Create a function that takes teh decision tree csv and turn into a dictionary for referencing \n",
        "    d = {}                                                                          #Create an empty dictionary to populate with questions and user inputs that lead to that question\n",
        "    with open(filename, encoding=\"utf-8\") as f:                                     #Open the specified file as f\n",
        "      reader = csv.DictReader(f)                                                    #Read as a dictionary \n",
        "      row_count = 0                                                                 #Set the row counter to 0\n",
        "      for row in reader:                                                            #For each row   \n",
        "        row_count += 1                                                              #Increase the counter by 1 \n",
        "        user_input = row[\"input\"]                                                   #User input will be the combination of Y/Ns - these will be our keys for the dictionary  \n",
        "        d[user_input] = row[\"questions\"]                                            #Dictionary values will be the questions asked \n",
        "    return d                                                                        #Returns the dictionary \n",
        "    \n",
        "\n",
        "  def countries_list(filename):                                                     #Defines a function that converts the countries from csv into list format\n",
        "    c = []                                                                          #Empty list to populated with countries \n",
        "    with open(filename, encoding=\"utf-8\", newline='') as f:                         #Open the specified file as f\n",
        "      reader = csv.reader(f)                                                        #Reads each line of the csv file \n",
        "      c = list(reader)                                                              #Converts the lines to list and creates a list of lists\n",
        "      c_flat = [item for sublist in c for item in sublist]                          #Converts the list of lists into a single flat list \n",
        "    return c_flat                                                                   #Returns the flat list  \n",
        "    \n",
        "  tree_dict = questions_dict(\"decisionTree.csv\")                                    #Converts the decision tree csv file into a dictionary format \n",
        "  all_countries = countries_list(\"countries_list.csv\")                              #Converts the countries list csv into a list of all countries \n",
        "\n",
        "  counter = 0                                                                       #Initializes a counter by setting it to zero to track the number of questions asked by the computer \n",
        "  user_answer_list = []                                                             #Creates an empty list to be populated with all of the user's inputs \n",
        "  possible_inputs = ['Y', 'N']                                                      #Creates a list of possible inputs that the user can enter - this is just Y or N\n",
        "  nextQues = list(tree_dict.values())[0]                                            #The first question is always going to be the first value in our dictionary\n",
        "  print(nextQues)                                                                   #Outputs the first quesetion to the user \n",
        "  counter += 1                                                                      #Adds 1 to the counter \n",
        "\n",
        "  while True:                                                                       #While loop that will always run true\n",
        "    country_str = nextQues[15:-1]                                                   #Takes the string after \"Is the country \" \n",
        "    user_answer = input(\"Y/N: \")                                                    #Prompts the user to input their answer to the question\n",
        "    \n",
        "    if user_answer in possible_inputs:                                              #If the answer is valid \n",
        "      user_answer_list.append(user_answer)                                          #Append the answer to the answer_list    \n",
        "      if country_str in all_countries and user_answer in 'Y' and counter < 20:      #Checks whether country_str is in the dictionary and the user entered Y and the numebr of questions guessed is less than 20\n",
        "        print(\"KittyBot guessed your country in \"+ str(counter) + \" guesses!\")      #Prints that the computer has successfully guessed the right computer \n",
        "        print(\"KittyBot wins!\")                                                     #The computer wins the game     \n",
        "        break                                                                       #and it exits from the while loop\n",
        "      elif country_str in all_countries and user_answer in 'Y' and counter > 20:    #If the computer has guessed more than 20 times \n",
        "        print(\"KittyBot couldn't guess your country in 20 guesses.\")                #The computer loses \n",
        "        print(\"KittyBot loses!\")                                                    \n",
        "        print(\"Make sure your country is a registered nation!\")                     #Alerts the user to only pick a country that is registered \n",
        "        break                                                                       #Exits the game \n",
        "      else:                                                                         #If the computer has not made a guess\n",
        "        nextQues = nextQ(user_answer_list, tree_dict)                               #Use the nextQ funciton to go down the decision tree as needed  \n",
        "        counter += 1                                                                #Add to the counter as a new question has been asked \n",
        "    \n",
        "    else:\n",
        "      print('Please enter Y or N')                                                  #Prompts the user to input either Y or N"
      ],
      "metadata": {
        "id": "GohdTxn04HOR"
      },
      "execution_count": 28,
      "outputs": []
    },
    {
      "cell_type": "code",
      "source": [
        " while True: \n",
        "  user_select = input(\"What would you like to do today? Please type 'weater', 'game', 'fact' or 'off'\")     #Asks the user what they want to do with the KittyBot\n",
        "  possible_states = ['weather', 'game', 'fact', 'off']                                                      #Offers the possible states for the FSM \n",
        "  if user_select == possible_states[0]:                                                                     #If the user inputs weather \n",
        "    print(\"Let me get the weather for you.\")\n",
        "    weather()                                                                                               #Run the weather function\n",
        "  elif user_select == possible_states[1]:                                                                   #If the user inputs game  \n",
        "    print(\"Let's play!\")                                                                  \n",
        "    twentyquestions()                                                                                       #Run the twentyquestions function\n",
        "  elif user_select == possible_states[2]:                                                                   #If the user inputs fact \n",
        "    print(\"Here is the random fact for the day:\")\n",
        "    rand_facts()                                                                                            #Run the rand_facts function\n",
        "  elif user_select == possible_states[3]:                                                                   #If the user wants to turn the bot off\n",
        "    print(\"Turning off...\")     \n",
        "    break                                                                                                   #Break out of the while loop\n",
        "  else:\n",
        "    print(\"Make sure you have spelled the input correctly!\")                                                #if the input is not in a possible FSM state, prompt the user to start again "
      ],
      "metadata": {
        "colab": {
          "base_uri": "https://localhost:8080/"
        },
        "id": "hyB7H1k5w2VU",
        "outputId": "4a0b0691-4ebf-4a4a-ebd4-125654ed0e72"
      },
      "execution_count": 47,
      "outputs": [
        {
          "output_type": "stream",
          "name": "stdout",
          "text": [
            "What would you like to do today? Please type 'weater', 'game', 'fact' or 'off'fact\n",
            "Here is the random fact for the day:\n",
            "Tommy Fitzpatrick stole a small plane in 1956 from New Jersey on a bet and then landed it on the narrow street in front of the bar where he had been drinking in Manhattan. Two years later, he did it again after someone didn't believe he had done it the first time.\n",
            "What would you like to do today? Please type 'weater', 'game', 'fact' or 'off'off\n",
            "Turning off...\n"
          ]
        }
      ]
    }
  ]
}